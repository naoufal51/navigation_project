{
 "cells": [
  {
   "cell_type": "markdown",
   "metadata": {},
   "source": [
    "# Navigation\n"
   ]
  },
  {
   "cell_type": "markdown",
   "metadata": {},
   "source": [
    "## Model Testing"
   ]
  },
  {
   "cell_type": "code",
   "execution_count": 1,
   "metadata": {},
   "outputs": [
    {
     "name": "stdout",
     "output_type": "stream",
     "text": [
      "worker_id 1989\n",
      "Mono path[0] = '/Users/Naoufal_1/Desktop/repos/navigation_project/p1_navigation/Banana.app/Contents/Resources/Data/Managed'\n",
      "Mono config path = '/Users/Naoufal_1/Desktop/repos/navigation_project/p1_navigation/Banana.app/Contents/MonoBleedingEdge/etc'\n"
     ]
    },
    {
     "name": "stderr",
     "output_type": "stream",
     "text": [
      "INFO:unityagents:\n",
      "'Academy' started successfully!\n",
      "Unity Academy name: Academy\n",
      "        Number of Brains: 1\n",
      "        Number of External Brains : 1\n",
      "        Lesson number : 0\n",
      "        Reset Parameters :\n",
      "\t\t\n",
      "Unity brain name: BananaBrain\n",
      "        Number of Visual Observations (per agent): 0\n",
      "        Vector Observation space type: continuous\n",
      "        Vector Observation space size (per agent): 37\n",
      "        Number of stacked Vector Observation: 1\n",
      "        Vector Action space type: discrete\n",
      "        Vector Action space size (per agent): 4\n",
      "        Vector Action descriptions: , , , \n"
     ]
    },
    {
     "name": "stdout",
     "output_type": "stream",
     "text": [
      "Score: 18.0\n"
     ]
    }
   ],
   "source": [
    "from unityagents import UnityEnvironment\n",
    "import numpy as np\n",
    "from random import randint\n",
    "from agent import DQNAgent, DoubleDQNAgent\n",
    "from collections import deque\n",
    "import numpy as np\n",
    "import torch\n",
    "import matplotlib.pyplot as plt\n",
    "from typing import List\n",
    "\n",
    "\n",
    "def load_agent(agent: DQNAgent, file_name: str = \"checkpoint.pth\") -> int:\n",
    "    \"\"\"\n",
    "    Load agent's Q-network weights and optionally episode number from a file.\n",
    "\n",
    "    Args:\n",
    "        agent (DQNAgent): The agent to which the Q-network weights should be loaded.\n",
    "        file_name (str): The path to the file from which the data should be loaded.\n",
    "\n",
    "    Returns:\n",
    "        int or None: The episode number at which the model was saved or None if not saved.\n",
    "    \"\"\"\n",
    "    checkpoint = torch.load(file_name)\n",
    "    agent.q_network.load_state_dict(checkpoint[\"q_network_state_dict\"])\n",
    "    agent.q_network.eval()  # Set the network to evaluation mode\n",
    "    return checkpoint.get(\"episode\", None)\n",
    "\n",
    "\n",
    "seed=32\n",
    "worker_id=randint(0, 10000)\n",
    "print('worker_id', worker_id)\n",
    "env = UnityEnvironment(file_name=\"Banana.app\", worker_id=worker_id, seed=seed)\n",
    "\n",
    "# get the default brain\n",
    "brain_name = env.brain_names[0]\n",
    "brain = env.brains[brain_name]\n",
    "\n",
    "# Create DQN agent\n",
    "env_info = env.reset(train_mode=True)[brain_name]\n",
    "action_size = brain.vector_action_space_size\n",
    "state_size = len(env_info.vector_observations[0])\n",
    "agent = DoubleDQNAgent(state_size=state_size, action_size=action_size,fc1_dim=128, fc2_dim=64, seed=seed, dueling=True)\n",
    "\n",
    "# load model to agent\n",
    "load_agent(agent, './models/navigation_dqn_checkpoint_dueling_True_double_True.pth')\n",
    "\n",
    "# put env on eval model\n",
    "env_info = env.reset(train_mode=False)[brain_name]\n",
    "\n",
    "# initialize state\n",
    "state = env_info.vector_observations[0]\n",
    "\n",
    "# initialize score\n",
    "total_score = 0\n",
    "\n",
    "while True:\n",
    "    action = agent.act(state)                      # select action \n",
    "    env_info = env.step(action)[brain_name]        # send the action to the environment\n",
    "    next_state = env_info.vector_observations[0]\n",
    "    reward = env_info.rewards[0]                   # get the reward\n",
    "    done = env_info.local_done[0]                  # see if episode has finished\n",
    "    total_score += reward\n",
    "    state = next_state\n",
    "    if done:\n",
    "        break\n",
    "\n",
    "print(\"Score: {}\".format(total_score))\n",
    "\n",
    "env.close()"
   ]
  },
  {
   "cell_type": "code",
   "execution_count": 1,
   "metadata": {},
   "outputs": [
    {
     "name": "stdout",
     "output_type": "stream",
     "text": [
      "worker_id 2035\n",
      "Mono path[0] = '/Users/Naoufal_1/Desktop/repos/navigation_project/p1_navigation/Banana.app/Contents/Resources/Data/Managed'\n",
      "Mono config path = '/Users/Naoufal_1/Desktop/repos/navigation_project/p1_navigation/Banana.app/Contents/MonoBleedingEdge/etc'\n"
     ]
    },
    {
     "name": "stderr",
     "output_type": "stream",
     "text": [
      "INFO:unityagents:\n",
      "'Academy' started successfully!\n",
      "Unity Academy name: Academy\n",
      "        Number of Brains: 1\n",
      "        Number of External Brains : 1\n",
      "        Lesson number : 0\n",
      "        Reset Parameters :\n",
      "\t\t\n",
      "Unity brain name: BananaBrain\n",
      "        Number of Visual Observations (per agent): 0\n",
      "        Vector Observation space type: continuous\n",
      "        Vector Observation space size (per agent): 37\n",
      "        Number of stacked Vector Observation: 1\n",
      "        Vector Action space type: discrete\n",
      "        Vector Action space size (per agent): 4\n",
      "        Vector Action descriptions: , , , \n"
     ]
    },
    {
     "data": {
      "image/png": "[encoded data removed]",
      "text/plain": [
       "<Figure size 432x288 with 1 Axes>"
      ]
     },
     "metadata": {
      "needs_background": "light"
     },
     "output_type": "display_data"
    }
   ],
   "source": [
    "from collections import deque\n",
    "from unityagents import UnityEnvironment\n",
    "import numpy as np\n",
    "from random import randint\n",
    "from agent import DQNAgent, DoubleDQNAgent\n",
    "from collections import deque\n",
    "import numpy as np\n",
    "import torch\n",
    "import matplotlib.pyplot as plt\n",
    "from typing import List\n",
    "\n",
    "\n",
    "def load_agent(agent: DQNAgent, file_name: str = \"checkpoint.pth\") -> int:\n",
    "    \"\"\"\n",
    "    Load agent's Q-network weights and optionally episode number from a file.\n",
    "\n",
    "    Args:\n",
    "        agent (DQNAgent): The agent to which the Q-network weights should be loaded.\n",
    "        file_name (str): The path to the file from which the data should be loaded.\n",
    "\n",
    "    Returns:\n",
    "        int or None: The episode number at which the model was saved or None if not saved.\n",
    "    \"\"\"\n",
    "    checkpoint = torch.load(file_name)\n",
    "    agent.q_network.load_state_dict(checkpoint[\"q_network_state_dict\"])\n",
    "    agent.q_network.eval()  # Set the network to evaluation mode\n",
    "    return checkpoint.get(\"episode\", None)\n",
    "\n",
    "\n",
    "# Initialize the environment\n",
    "seed=32\n",
    "worker_id=randint(0, 10000)\n",
    "print('worker_id', worker_id)\n",
    "env = UnityEnvironment(file_name=\"Banana.app\", worker_id=worker_id, seed=seed)\n",
    "\n",
    "# get the default brain\n",
    "brain_name = env.brain_names[0]\n",
    "brain = env.brains[brain_name]\n",
    "\n",
    "# Create DQN agent\n",
    "env_info = env.reset(train_mode=True)[brain_name]\n",
    "action_size = brain.vector_action_space_size\n",
    "state_size = len(env_info.vector_observations[0])\n",
    "\n",
    "def evaluate_agent(agent_type, dueling: bool, model_path: str, num_episodes: int = 100) -> List[float]:\n",
    "    \"\"\"Evaluates our Banana collection agents over multiple episodes and returns scores.\n",
    "    \n",
    "    Args:\n",
    "        agent_type (DQNAgent or DoubleDQNAgent): The type of agent to be evaluated (Here the difference is in the Double component)\n",
    "        dueling (bool): Whether to use the dueling architecture or not.\n",
    "        model_path (str): The model path where the trained model is saved and should be loaded from.\n",
    "        num_episodes (int): The number of evaluation episodes.\n",
    "        \n",
    "    Returns:\n",
    "        scores (List[float]): The list of scores obtained in the evaluation.\n",
    "    \n",
    "    \"\"\"\n",
    "    \n",
    "    # Instantiate agent\n",
    "    agent = agent_type(state_size=state_size, action_size=action_size, fc1_dim=128, fc2_dim=64, seed=seed, dueling=dueling)\n",
    "    \n",
    "    # Load agent from the provided model path\n",
    "    load_agent(agent, model_path)\n",
    "    \n",
    "    scores = []\n",
    "    for i_episode in range(1, num_episodes + 1):\n",
    "        env_info = env.reset(train_mode=True)[brain_name]\n",
    "        state = env_info.vector_observations[0]\n",
    "        total_score = 0\n",
    "        while True:\n",
    "            action = agent.act(state)  # select action \n",
    "            env_info = env.step(action)[brain_name] # send the action to the environment\n",
    "            next_state = env_info.vector_observations[0] # get the next state\n",
    "            reward = env_info.rewards[0] # get the generated reward\n",
    "            done = env_info.local_done[0] # check if the episode is finished\n",
    "            total_score += reward # accumulate the episode reward score\n",
    "            state = next_state\n",
    "            if done:\n",
    "                break\n",
    "        scores.append(total_score)\n",
    "    return scores\n",
    "\n",
    "# Agent configurations to be evaluated\n",
    "configurations = [\n",
    "    (DoubleDQNAgent, True, './models/navigation_dqn_dueling_True_double_True.pth'),\n",
    "    (DoubleDQNAgent, False, './models/navigation_dqn_dueling_False_double_True.pth'),\n",
    "    (DQNAgent, True, './models/navigation_dqn_dueling_True_double_False.pth'),\n",
    "    (DQNAgent, False, './models/navigation_dqn_dueling_False_double_False.pth')\n",
    "]\n",
    "\n",
    "labels = [\"Dueling Double DQN\", \"Double DQN\", \"Dueling DQN\", \"DQN\"]\n",
    "all_scores = [evaluate_agent(agent_type=conf[0], dueling=conf[1], model_path=conf[2]) for conf in configurations]\n",
    "\n",
    "# Plot boxplots\n",
    "plt.boxplot(all_scores, vert=True, patch_artist=True, labels=labels)\n",
    "plt.title('Agent performance for different DRL architectures')\n",
    "plt.ylabel('Scores')\n",
    "plt.show()\n",
    "\n"
   ]
  },
  {
   "cell_type": "code",
   "execution_count": 2,
   "metadata": {},
   "outputs": [],
   "source": [
    "env.close()"
   ]
  },
  {
   "cell_type": "code",
   "execution_count": 3,
   "metadata": {},
   "outputs": [],
   "source": [
    "import os\n",
    "import pickle\n",
    "scores = {'labels':labels,\n",
    "          'all_scores': all_scores}\n",
    "\n",
    "# save scores to file\n",
    "save_dir = './models/'\n",
    "with open(os.path.join(save_dir, 'scores.pkl'), 'wb') as f:\n",
    "    pickle.dump(scores, f)\n",
    "\n"
   ]
  },
  {
   "cell_type": "code",
   "execution_count": 4,
   "metadata": {},
   "outputs": [
    {
     "name": "stdout",
     "output_type": "stream",
     "text": [
      "       Dueling Double DQN  Double DQN  Dueling DQN         DQN\n",
      "count          100.000000  100.000000   100.000000  100.000000\n",
      "mean            11.590000   13.990000    12.160000   13.350000\n",
      "std              5.606805    4.118191     6.548529    4.985585\n",
      "min              0.000000    1.000000     0.000000    0.000000\n",
      "25%              7.000000   12.000000     7.000000   11.000000\n",
      "50%             13.000000   15.000000    13.500000   15.000000\n",
      "75%             16.000000   17.000000    17.000000   17.000000\n",
      "max             21.000000   22.000000    23.000000   23.000000\n"
     ]
    }
   ],
   "source": [
    "import pandas as pd\n",
    "\n",
    "# read scores.pkl \n",
    "scores = pd.read_pickle('./models/scores.pkl')\n",
    "\n",
    "df_scores = pd.DataFrame(scores['all_scores']).transpose()\n",
    "df_scores.columns = scores['labels']\n",
    "\n",
    "# Display the summary statistics for each configuration\n",
    "statistics = df_scores.describe()\n",
    "\n",
    "print(statistics)\n"
   ]
  },
  {
   "cell_type": "code",
   "execution_count": null,
   "metadata": {},
   "outputs": [],
   "source": []
  }
 ],
 "metadata": {
  "kernelspec": {
   "display_name": "drlnd",
   "language": "python",
   "name": "drlnd"
  },
  "language_info": {
   "codemirror_mode": {
    "name": "ipython",
    "version": 3
   },
   "file_extension": ".py",
   "mimetype": "text/x-python",
   "name": "python",
   "nbconvert_exporter": "python",
   "pygments_lexer": "ipython3",
   "version": "3.8.10"
  }
 },
 "nbformat": 4,
 "nbformat_minor": 2
}
